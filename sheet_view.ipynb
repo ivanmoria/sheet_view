{
 "cells": [
  {
   "cell_type": "code",
   "execution_count": null,
   "id": "b31d7f45",
   "metadata": {
    "vscode": {
     "languageId": "plaintext"
    }
   },
   "outputs": [],
   "source": [
    "import pandas as pd\n",
    "import re\n",
    "# URL pública do Google Sheets\n",
    "sheet_id = \"1XuGWm_gDG5edw9YkznTQGABTBah1Ptz9lfstoFdGVbA\"\n",
    "sheet_url = f\"https://docs.google.com/spreadsheets/d/{sheet_id}/export?format=csv\"\n",
    "\n",
    "# Lê diretamente como CSV\n",
    "dados = pd.read_csv(sheet_url)\n",
    "print(dados.columns.tolist())"
   ]
  },
  {
   "cell_type": "code",
   "execution_count": null,
   "id": "d86ccf9b",
   "metadata": {
    "vscode": {
     "languageId": "plaintext"
    }
   },
   "outputs": [],
   "source": [
    "def limpar_texto(texto):\n",
    "    texto = texto.lower()\n",
    "    texto = texto.strip()\n",
    "    texto = re.sub(r\"\\s+\", \" \", texto)\n",
    "    texto = re.sub(r\"[^\\w\\s,;]\", \"\", texto)\n",
    "    return texto\n",
    "\n",
    "def separar_afiliacoes(texto):\n",
    "    if pd.isna(texto):\n",
    "        return []\n",
    "    texto = limpar_texto(texto)\n",
    "    \n",
    "    # Tentativa de separar em blocos \"afiliação ; país\"\n",
    "    # O padrão espera pelo menos um \";\"\n",
    "    partes = texto.split(\";\")\n",
    "    if len(partes) < 2:\n",
    "        return []\n",
    "    \n",
    "    resultado = []\n",
    "    # Percorre as partes em pares (afiliação, país)\n",
    "    for i in range(0, len(partes) - 1, 2):\n",
    "        afil = partes[i].strip()\n",
    "        pais = partes[i+1].strip()\n",
    "        \n",
    "        # Agora separar múltiplas afiliações dentro da afiliação\n",
    "        # que podem estar separadas por vírgula, \"and\", \"&\"\n",
    "        afil_individuals = re.split(r\",| and | & \", afil)\n",
    "        \n",
    "        for afil_i in afil_individuals:\n",
    "            afil_i = afil_i.strip()\n",
    "            if afil_i:\n",
    "                resultado.append(f\"{afil_i} ; {pais}\")\n",
    "    return resultado\n",
    "\n",
    "afiliacoes_expandidas = dados[\"Afiliation\"].dropna().apply(separar_afiliacoes).explode()\n",
    "contagem = afiliacoes_expandidas.value_counts().reset_index()\n",
    "contagem.columns = [\"Afiliacao_e_Pais\", \"Quantidade\"]\n",
    "\n",
    "print(\"\\n=== Afiliacoes únicas agrupadas e contadas ===\\n\")\n",
    "for _, row in contagem.iterrows():\n",
    "    print(f\"{row['Afiliacao_e_Pais']}: {row['Quantidade']}\")\n",
    "    "
   ]
  },
  {
   "cell_type": "code",
   "execution_count": null,
   "id": "b9234e2a",
   "metadata": {
    "vscode": {
     "languageId": "plaintext"
    }
   },
   "outputs": [],
   "source": [
    "# === Contagem por Região ===\n",
    "contagem_por_regiao = (\n",
    "    dados[dados[\"Region\"].notna()]\n",
    "    .groupby(\"Region\")\n",
    "    .size()\n",
    "    .reset_index(name=\"Quantidade\")\n",
    "    .sort_values(by=\"Quantidade\", ascending=False)\n",
    ")\n",
    "\n",
    "print(\"\\n=== Contagem de trabalhos por Região ===\\n\")\n",
    "print(contagem_por_regiao)\n"
   ]
  },
  {
   "cell_type": "code",
   "execution_count": null,
   "id": "022ef873",
   "metadata": {
    "vscode": {
     "languageId": "plaintext"
    }
   },
   "outputs": [],
   "source": [
    "# === Contagem por País ===\n",
    "# Lidar com múltiplos países separados por vírgula\n",
    "def separar_paises(campo):\n",
    "    if pd.isna(campo):\n",
    "        return []\n",
    "    return [pais.strip() for pais in str(campo).split(\",\")]\n",
    "\n",
    "# Expandir países em linhas individuais\n",
    "dados_paises = dados[\"country\"].dropna().apply(separar_paises)\n",
    "dados_paises_explodido = dados_paises.explode()\n",
    "\n",
    "contagem_por_pais = (\n",
    "    dados_paises_explodido.value_counts()\n",
    "    .reset_index()\n",
    "    .rename(columns={\"index\": \"country\", 0: \"Quantidade\"})\n",
    ")\n",
    "\n",
    "print(\"\\n=== Contagem de trabalhos por País ===\\n\")\n",
    "print(contagem_por_pais.to_string(index=False))  # imprime todos os países\n"
   ]
  },
  {
   "cell_type": "code",
   "execution_count": null,
   "id": "2a9489e8",
   "metadata": {
    "vscode": {
     "languageId": "plaintext"
    }
   },
   "outputs": [],
   "source": [
    "# === Contagem de países por Região ===\n",
    "dados_regiao_pais = (\n",
    "    dados[[\"Region\", \"country\"]]\n",
    "    .dropna()\n",
    "    .assign(country=lambda df: df[\"country\"].apply(separar_paises))\n",
    "    .explode(\"country\")\n",
    ")\n",
    "\n",
    "dados_regiao_pais[\"country\"] = dados_regiao_pais[\"country\"].str.strip()\n",
    "\n",
    "contagem_pais_regiao = (\n",
    "    dados_regiao_pais\n",
    "    .groupby([\"Region\", \"country\"])\n",
    "    .size()\n",
    "    .reset_index(name=\"Quantidade\")\n",
    "    .sort_values(by=[\"Region\", \"Quantidade\"], ascending=[True, False])\n",
    ")\n",
    "\n",
    "print(\"\\n=== Contagem de países por Região ===\\n\")\n",
    "print(contagem_pais_regiao.to_string(index=False))\n"
   ]
  },
  {
   "cell_type": "code",
   "execution_count": null,
   "id": "40b5eb46",
   "metadata": {
    "vscode": {
     "languageId": "plaintext"
    }
   },
   "outputs": [],
   "source": [
    "# === Contagem por Autor ===\n",
    "# Lidar com múltiplos autores separados por vírgula\n",
    "def separar_autores(campo):\n",
    "    if pd.isna(campo):\n",
    "        return []\n",
    "    return [autor.strip() for autor in str(campo).split(\",\")]\n",
    "\n",
    "# Expandir autores em linhas individuais\n",
    "dados_autores = dados[\"Autores\"].dropna().apply(separar_autores)\n",
    "dados_autores_explodido = dados_autores.explode()\n",
    "\n",
    "contagem_por_autor = (\n",
    "    dados_autores_explodido.value_counts()\n",
    "    .reset_index()\n",
    "    .rename(columns={\"index\": \"Autor\", 0: \"Quantidade\"})\n",
    ")\n",
    "\n",
    "print(\"\\n=== Contagem de trabalhos por Autor ===\\n\")\n",
    "print(contagem_por_autor.to_string(index=False))\n",
    "\n"
   ]
  },
  {
   "cell_type": "code",
   "execution_count": null,
   "id": "b15678c9",
   "metadata": {
    "vscode": {
     "languageId": "plaintext"
    }
   },
   "outputs": [],
   "source": [
    "referencias_separadas = []\n",
    "\n",
    "for cell in dados[\"Ref\"]:\n",
    "    if isinstance(cell, str) and cell.strip():\n",
    "        # Divide pelas duplas quebras de linha\n",
    "        refs = cell.split('\\n\\n')\n",
    "        for ref in refs:\n",
    "            ref = ref.strip()\n",
    "            if ref:\n",
    "                # Limpa quebras de linha e múltiplos espaços dentro da referência\n",
    "                ref = ref.replace('\\n', ' ').replace('\\r', ' ')\n",
    "                ref = ' '.join(ref.split())\n",
    "                referencias_separadas.append(ref)\n",
    "\n",
    "# Cria DataFrame numerado\n",
    "df_referencias = pd.DataFrame({\n",
    "    \"Referência\": referencias_separadas\n",
    "})\n",
    "\n",
    "print(df_referencias)\n"
   ]
  },
  {
   "cell_type": "code",
   "execution_count": null,
   "id": "bc0b15b4",
   "metadata": {
    "vscode": {
     "languageId": "plaintext"
    }
   },
   "outputs": [],
   "source": [
    "import pandas as pd\n",
    "import re\n",
    "\n",
    "referencias_separadas = []\n",
    "\n",
    "for cell in dados[\"Ref\"]:\n",
    "    if isinstance(cell, str) and cell.strip():\n",
    "        # Normaliza quebras de linha\n",
    "        temp = cell.replace('\\r\\n', '\\n').replace('\\r', '\\n')\n",
    "        # Divide pelas duplas quebras de linha (ou mais)\n",
    "        refs = re.split(r'\\n{2,}', temp)\n",
    "        \n",
    "        for ref in refs:\n",
    "            ref = ref.strip()\n",
    "            if ref:\n",
    "                # Remove quebras de linha internas, deixa tudo em uma linha só\n",
    "                ref = ' '.join(ref.split())\n",
    "                referencias_separadas.append(ref)\n",
    "\n",
    "# Cria dataframe\n",
    "df_separado = pd.DataFrame({\"Referência\": referencias_separadas})\n",
    "\n",
    "import re\n",
    "\n",
    "def extrair_autor_ano(texto):\n",
    "    m = re.search(r'^(.*?)(\\(\\d{4}\\))', texto)\n",
    "    if m:\n",
    "        autores = m.group(1).rstrip('.,; ')\n",
    "        ano = m.group(2)\n",
    "        return f\"{autores} {ano}\"\n",
    "    return texto\n",
    "\n",
    "\n",
    "\n",
    "# Aplica função para extrair autor e ano\n",
    "df_separado['Autor(es) e Ano'] = df_separado['Referência'].apply(extrair_autores_ano)\n",
    "\n",
    "# Remove linhas sem resultado válido\n",
    "df_limpo = df_separado.dropna(subset=['Autor(es) e Ano']).reset_index(drop=True)\n",
    "\n",
    "print(df_limpo[['Autor(es) e Ano']])\n",
    "\n"
   ]
  }
 ],
 "metadata": {
  "language_info": {
   "name": "python"
  }
 },
 "nbformat": 4,
 "nbformat_minor": 5
}
